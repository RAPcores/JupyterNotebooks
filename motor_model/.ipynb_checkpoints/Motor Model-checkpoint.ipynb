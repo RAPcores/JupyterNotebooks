{
 "cells": [
  {
   "cell_type": "code",
   "execution_count": 1,
   "metadata": {},
   "outputs": [
    {
     "name": "stderr",
     "output_type": "stream",
     "text": [
      "┌ Info: Precompiling ModelingToolkit [961ee093-0014-501f-94e3-6117800e7a78]\n",
      "└ @ Base loading.jl:1317\n"
     ]
    }
   ],
   "source": [
    "using ModelingToolkit"
   ]
  },
  {
   "cell_type": "markdown",
   "metadata": {},
   "source": [
    "$$ T_D (n, e_c) = J \\frac{d^2 \\theta_0 (t)}{dt^2} + B \\frac{d \\theta_0 (t)}{dt} $$\n",
    "\n",
    "- $T_D$ : Torque Developed\n",
    "- $J$ : Inertia\n",
    "- $B$ : Dampening\n",
    "\n",
    "\n",
    "Kim, et. al. 2011:\n",
    "\n",
    "$$ \\dot\\theta = \\omega$$\n",
    "$$ \\dot\\omega = \\frac{1}{J} ( -K_m i_a sin(N_r \\theta) + K_m i_b cos(N_r \\theta) - B \\omega - \\tau)$$\n",
    "$$ \\dot i_a = \\frac{1}{L} ( v_a - R i_a + K_m sin(N_r \\theta))$$\n",
    "$$ \\dot i_b = \\frac{1}{L} ( v_b - R i_b - K_m cos(N_r \\theta))$$\n"
   ]
  },
  {
   "cell_type": "code",
   "execution_count": 2,
   "metadata": {},
   "outputs": [
    {
     "name": "stderr",
     "output_type": "stream",
     "text": [
      "┌ Info: Precompiling OrdinaryDiffEq [1dea7af3-3e70-54e6-95c3-0bf5283fa5ed]\n",
      "└ @ Base loading.jl:1317\n"
     ]
    },
    {
     "data": {
      "text/plain": [
       "ODESystem(Equation[Equation(\u001b[37mDifferential(\u001b[39m\u001b[37m\u001b[37mθ(\u001b[39m\u001b[37mt\u001b[39m\u001b[37m)\u001b[39m\u001b[39m\u001b[37m)\u001b[39m, \u001b[37mω(\u001b[39m\u001b[37mt\u001b[39m\u001b[37m)\u001b[39m), Equation(\u001b[37mDifferential(\u001b[39m\u001b[37m\u001b[37mω(\u001b[39m\u001b[37mt\u001b[39m\u001b[37m)\u001b[39m\u001b[39m\u001b[37m)\u001b[39m, \u001b[37m\u001b[37m(\u001b[39m\u001b[37m1\u001b[39m\u001b[37m / \u001b[39m\u001b[37mJ\u001b[39m\u001b[37m)\u001b[39m\u001b[39m\u001b[37m * \u001b[39m\u001b[37m\u001b[37m(\u001b[39m\u001b[37m\u001b[37m(\u001b[39m\u001b[37m\u001b[37m(\u001b[39m\u001b[37m\u001b[37m(\u001b[39m\u001b[37m\u001b[37m(\u001b[39m\u001b[37m\u001b[37m(\u001b[39m\u001b[37m-\u001b[39m\u001b[37mKm\u001b[39m\u001b[37m)\u001b[39m\u001b[39m\u001b[37m * \u001b[39m\u001b[37m\u001b[37mia(\u001b[39m\u001b[37mt\u001b[39m\u001b[37m)\u001b[39m\u001b[39m\u001b[37m)\u001b[39m\u001b[39m\u001b[37m * \u001b[39m\u001b[37m\u001b[37msin(\u001b[39m\u001b[37m\u001b[37mNr\u001b[39m\u001b[37m * \u001b[39m\u001b[37m\u001b[37mθ(\u001b[39m\u001b[37mt\u001b[39m\u001b[37m)\u001b[39m\u001b[39m\u001b[39m\u001b[37m)\u001b[39m\u001b[39m\u001b[37m)\u001b[39m\u001b[39m\u001b[37m + \u001b[39m\u001b[37m\u001b[37m(\u001b[39m\u001b[37m\u001b[37m(\u001b[39m\u001b[37mKm\u001b[39m\u001b[37m * \u001b[39m\u001b[37m\u001b[37mib(\u001b[39m\u001b[37mt\u001b[39m\u001b[37m)\u001b[39m\u001b[39m\u001b[37m)\u001b[39m\u001b[39m\u001b[37m * \u001b[39m\u001b[37m\u001b[37mcos(\u001b[39m\u001b[37m\u001b[37mNr\u001b[39m\u001b[37m * \u001b[39m\u001b[37m\u001b[37mθ(\u001b[39m\u001b[37mt\u001b[39m\u001b[37m)\u001b[39m\u001b[39m\u001b[39m\u001b[37m)\u001b[39m\u001b[39m\u001b[37m)\u001b[39m\u001b[39m\u001b[37m)\u001b[39m\u001b[39m\u001b[37m - \u001b[39m\u001b[37m\u001b[37m(\u001b[39m\u001b[37mB\u001b[39m\u001b[37m * \u001b[39m\u001b[37m\u001b[37mω(\u001b[39m\u001b[37mt\u001b[39m\u001b[37m)\u001b[39m\u001b[39m\u001b[37m)\u001b[39m\u001b[39m\u001b[37m)\u001b[39m\u001b[39m\u001b[37m - \u001b[39m\u001b[37mτ\u001b[39m\u001b[37m)\u001b[39m\u001b[39m), Equation(\u001b[37mDifferential(\u001b[39m\u001b[37m\u001b[37mia(\u001b[39m\u001b[37mt\u001b[39m\u001b[37m)\u001b[39m\u001b[39m\u001b[37m)\u001b[39m, \u001b[37m\u001b[37m(\u001b[39m\u001b[37m1\u001b[39m\u001b[37m / \u001b[39m\u001b[37mL\u001b[39m\u001b[37m)\u001b[39m\u001b[39m\u001b[37m * \u001b[39m\u001b[37m\u001b[37m(\u001b[39m\u001b[37m\u001b[37m(\u001b[39m\u001b[37mva\u001b[39m\u001b[37m - \u001b[39m\u001b[37m\u001b[37m(\u001b[39m\u001b[37mRa\u001b[39m\u001b[37m * \u001b[39m\u001b[37m\u001b[37mia(\u001b[39m\u001b[37mt\u001b[39m\u001b[37m)\u001b[39m\u001b[39m\u001b[37m)\u001b[39m\u001b[39m\u001b[37m)\u001b[39m\u001b[39m\u001b[37m + \u001b[39m\u001b[37m\u001b[37m(\u001b[39m\u001b[37m\u001b[37m(\u001b[39m\u001b[37mKm\u001b[39m\u001b[37m * \u001b[39m\u001b[37m\u001b[37mω(\u001b[39m\u001b[37mt\u001b[39m\u001b[37m)\u001b[39m\u001b[39m\u001b[37m)\u001b[39m\u001b[39m\u001b[37m * \u001b[39m\u001b[37m\u001b[37msin(\u001b[39m\u001b[37m\u001b[37mNr\u001b[39m\u001b[37m * \u001b[39m\u001b[37m\u001b[37mθ(\u001b[39m\u001b[37mt\u001b[39m\u001b[37m)\u001b[39m\u001b[39m\u001b[39m\u001b[37m)\u001b[39m\u001b[39m\u001b[37m)\u001b[39m\u001b[39m\u001b[37m)\u001b[39m\u001b[39m), Equation(\u001b[37mDifferential(\u001b[39m\u001b[37m\u001b[37mib(\u001b[39m\u001b[37mt\u001b[39m\u001b[37m)\u001b[39m\u001b[39m\u001b[37m)\u001b[39m, \u001b[37m\u001b[37m(\u001b[39m\u001b[37m1\u001b[39m\u001b[37m / \u001b[39m\u001b[37mL\u001b[39m\u001b[37m)\u001b[39m\u001b[39m\u001b[37m * \u001b[39m\u001b[37m\u001b[37m(\u001b[39m\u001b[37m\u001b[37m(\u001b[39m\u001b[37mvb\u001b[39m\u001b[37m - \u001b[39m\u001b[37m\u001b[37m(\u001b[39m\u001b[37mRb\u001b[39m\u001b[37m * \u001b[39m\u001b[37m\u001b[37mib(\u001b[39m\u001b[37mt\u001b[39m\u001b[37m)\u001b[39m\u001b[39m\u001b[37m)\u001b[39m\u001b[39m\u001b[37m)\u001b[39m\u001b[39m\u001b[37m - \u001b[39m\u001b[37m\u001b[37m(\u001b[39m\u001b[37m\u001b[37m(\u001b[39m\u001b[37mKm\u001b[39m\u001b[37m * \u001b[39m\u001b[37m\u001b[37mω(\u001b[39m\u001b[37mt\u001b[39m\u001b[37m)\u001b[39m\u001b[39m\u001b[37m)\u001b[39m\u001b[39m\u001b[37m * \u001b[39m\u001b[37m\u001b[37mcos(\u001b[39m\u001b[37m\u001b[37mNr\u001b[39m\u001b[37m * \u001b[39m\u001b[37m\u001b[37mθ(\u001b[39m\u001b[37mt\u001b[39m\u001b[37m)\u001b[39m\u001b[39m\u001b[39m\u001b[37m)\u001b[39m\u001b[39m\u001b[37m)\u001b[39m\u001b[39m\u001b[37m)\u001b[39m\u001b[39m)], t, Term{Real}[\u001b[37mθ(\u001b[39m\u001b[37mt\u001b[39m\u001b[37m)\u001b[39m, \u001b[37mω(\u001b[39m\u001b[37mt\u001b[39m\u001b[37m)\u001b[39m, \u001b[37mia(\u001b[39m\u001b[37mt\u001b[39m\u001b[37m)\u001b[39m, \u001b[37mib(\u001b[39m\u001b[37mt\u001b[39m\u001b[37m)\u001b[39m], Sym{ModelingToolkit.Parameter{Real}}[B, J, Km, τ, Nr, L, Ra, va, vb, Rb], Num[], Equation[], Base.RefValue{Vector{Num}}(Num[]), Base.RefValue{Any}(Matrix{Num}(undef, 0, 0)), Base.RefValue{Matrix{Num}}(Matrix{Num}(undef, 0, 0)), Base.RefValue{Matrix{Num}}(Matrix{Num}(undef, 0, 0)), Symbol(\"##ODESystem#258\"), ODESystem[])"
      ]
     },
     "execution_count": 2,
     "metadata": {},
     "output_type": "execute_result"
    }
   ],
   "source": [
    "using ModelingToolkit, OrdinaryDiffEq, Unitful\n",
    "\n",
    "@parameters t J Km Nr B τ Ra Rb va vb La Lb\n",
    "@variables θ(t) ω(t) ia(t) ib(t)\n",
    "D = Differential(t)\n",
    "\n",
    "eqs = [D(θ) ~ ω,\n",
    "       D(ω) ~ (1/J)*(-Km*ia*sin(Nr*θ) + Km*ib*cos(Nr*θ) - B*ω - τ),\n",
    "       D(ia) ~ (1/La)*(va - Ra * ia + Km *ω*sin(Nr*θ)),\n",
    "       D(ib) ~ (1/Lb)*(vb - Rb * ib - Km *ω*cos(Nr*θ))]\n",
    "\n",
    "sys = ODESystem(eqs)\n",
    "sys = ode_order_lowering(sys)"
   ]
  },
  {
   "cell_type": "code",
   "execution_count": 3,
   "metadata": {},
   "outputs": [
    {
     "data": {
      "text/plain": [
       "10-element Vector{Pair{Num, Float64}}:\n",
       "  J => 6.8e-5\n",
       " Km => 0.2619047619047619\n",
       " Nr => 50.0\n",
       "  B => 0.001\n",
       " va => 12.0\n",
       " vb => 12.0\n",
       " Ra => 1.65\n",
       " Rb => 1.65\n",
       "  τ => 1.0\n",
       "  L => 2.8"
      ]
     },
     "execution_count": 3,
     "metadata": {},
     "output_type": "execute_result"
    }
   ],
   "source": [
    "u0 = [θ => 1.0,\n",
    "      ω => 1.0,\n",
    "      ia => 8.0,\n",
    "      ib => 8.0]\n",
    "\n",
    "p  = [J => 6.8e-5, # kg⋅m²\n",
    "      Km => (0.44/1.68), # N⋅m/A\n",
    "      Nr => 50.0,\n",
    "      B => 0.001,\n",
    "      va => 12,\n",
    "      vb => 12,\n",
    "      Ra  => 1.65,\n",
    "      Rb => 1.65,\n",
    "      τ => 1.0,\n",
    "      La => 2.8,\n",
    "      Lb => 2.81]"
   ]
  },
  {
   "cell_type": "code",
   "execution_count": 4,
   "metadata": {
    "scrolled": true
   },
   "outputs": [
    {
     "name": "stdout",
     "output_type": "stream",
     "text": [
      "  4.753070 seconds (11.45 M allocations: 641.200 MiB, 7.94% gc time, 99.97% compilation time)\n"
     ]
    },
    {
     "data": {
      "text/plain": [
       "retcode: Success\n",
       "Interpolation: specialized 4th order \"free\" interpolation\n",
       "t: 1355-element Vector{Float64}:\n",
       " 0.0\n",
       " 8.663057779366818e-5\n",
       " 0.0002687335179147103\n",
       " 0.0005262419410739111\n",
       " 0.0008598882762382225\n",
       " 0.0012760391598381892\n",
       " 0.0017188402414794607\n",
       " 0.0022722349661897837\n",
       " 0.0027479945461831167\n",
       " 0.0032756490177390284\n",
       " 0.0038264742126059206\n",
       " 0.004448486267669614\n",
       " 0.005066119743779248\n",
       " ⋮\n",
       " 0.9917982576512291\n",
       " 0.9925094386584403\n",
       " 0.9932980197931461\n",
       " 0.9940474560832526\n",
       " 0.9947555244789982\n",
       " 0.9955447842006042\n",
       " 0.9962898468273164\n",
       " 0.9970017003921331\n",
       " 0.9977907020614016\n",
       " 0.9985393717145736\n",
       " 0.9992480119621197\n",
       " 1.0\n",
       "u: 1355-element Vector{Vector{Float64}}:\n",
       " [1.0, 1.0, 8.0, 8.0]\n",
       " [1.0001730855846018, 2.9927961860856676, 7.999958693458025, 7.999947232925071]\n",
       " [1.0010925524160645, 7.0718967690754315, 7.99986073201632, 7.999785546098231]\n",
       " [1.0036047582404748, 12.29707926774481, 7.999715763510699, 7.999442980365503]\n",
       " [1.0086048221507415, 17.226957457543563, 7.999591379883451, 7.998834048070277]\n",
       " [1.0162645247748132, 18.529071755004296, 7.999661458183596, 7.997988684483842]\n",
       " [1.023459266700552, 12.813135569935884, 7.999916946611004, 7.997299668403025]\n",
       " [1.026880635850728, -1.1064151082821414, 7.999947747311957, 7.996889151944722]\n",
       " [1.0234343322391786, -12.78212305958511, 7.999474328433147, 7.996862145922847]\n",
       " [1.0147366492652912, -18.50715889132557, 7.998735222217244, 7.9972599563963644]\n",
       " [1.0053825365875018, -13.864992774301081, 7.9982955985686734, 7.9978674709408635]\n",
       " [1.0005079679758189, -1.1614741287715993, 7.998083704503646, 7.9980532711140535]\n",
       " [1.0039729727819524, 11.91147525305811, 7.997770300934403, 7.99746945780776]\n",
       " ⋮\n",
       " [1.0138326172812484, -0.01700501069482575, 7.678193552973185, 7.677449730983332]\n",
       " [1.0138213065726727, -0.012175298284772079, 7.678023225231905, 7.677281115132816]\n",
       " [1.0138182701127694, 0.005199396400891431, 7.677834810931351, 7.677093421390263]\n",
       " [1.0138271803117855, 0.016293263379666828, 7.677656286013746, 7.6769141208188]\n",
       " [1.0138379272550067, 0.011501223044312057, 7.67748777820713, 7.676744592043319]\n",
       " [1.0138405272294768, -0.005621076067981045, 7.67729966863882, 7.676556506176734]\n",
       " [1.0138314631384377, -0.016486103569906242, 7.6771217276591885, 7.676380013748166]\n",
       " [1.0138205033995593, -0.011758758896057892, 7.676951702412639, 7.676211656328624]\n",
       " [1.0138176001799681, 0.005090786884080544, 7.676763690957959, 7.676024348161059]\n",
       " [1.0138262435131937, 0.015783420425015, 7.676585811092302, 7.675845724455803]\n",
       " [1.0138366453683398, 0.011092080396312121, 7.67641760042687, 7.675676534956174]\n",
       " [1.0138393065210967, -0.004700771857638588, 7.676238853334039, 7.675497786728172]"
      ]
     },
     "execution_count": 4,
     "metadata": {},
     "output_type": "execute_result"
    }
   ],
   "source": [
    "tspan = (0.0,1.0)\n",
    "prob = ODEProblem(sys,u0,tspan,p)\n",
    "@time sol = solve(prob,Tsit5())"
   ]
  },
  {
   "cell_type": "code",
   "execution_count": null,
   "metadata": {},
   "outputs": [
    {
     "name": "stderr",
     "output_type": "stream",
     "text": [
      "┌ Info: Precompiling Plots [91a5bcdd-55d7-5caf-9e0b-520d859cae80]\n",
      "└ @ Base loading.jl:1317\n",
      "┌ Info: For saving to png with the Plotly backend ORCA has to be installed.\n",
      "└ @ Plots /home/steve/.julia/packages/Plots/8GUYs/src/backends.jl:363\n"
     ]
    },
    {
     "data": {
      "text/html": [
       "    <script type=\"text/javascript\">\n",
       "        requirejs([\"https://cdn.plot.ly/plotly-latest.min.js\"], function(p) {\n",
       "            window.Plotly = p\n",
       "        });\n",
       "    </script>\n"
      ]
     },
     "metadata": {},
     "output_type": "display_data"
    }
   ],
   "source": [
    "using Plots; plotly(); plot(sol)"
   ]
  },
  {
   "cell_type": "code",
   "execution_count": null,
   "metadata": {},
   "outputs": [],
   "source": []
  },
  {
   "cell_type": "code",
   "execution_count": null,
   "metadata": {},
   "outputs": [],
   "source": []
  }
 ],
 "metadata": {
  "kernelspec": {
   "display_name": "Julia 1.6.0-beta1",
   "language": "julia",
   "name": "julia-1.6"
  },
  "language_info": {
   "file_extension": ".jl",
   "mimetype": "application/julia",
   "name": "julia",
   "version": "1.6.0"
  }
 },
 "nbformat": 4,
 "nbformat_minor": 4
}
