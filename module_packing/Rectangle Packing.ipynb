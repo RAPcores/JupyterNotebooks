{
 "cells": [
  {
   "cell_type": "markdown",
   "metadata": {},
   "source": [
    "# Module Packing\n",
    "\n",
    "- Graphs digraph overlay\n",
    "- Annealing?\n",
    "- Alans interval arithmetic\n"
   ]
  },
  {
   "cell_type": "code",
   "execution_count": 39,
   "metadata": {},
   "outputs": [],
   "source": [
    "using Packing\n",
    "using GeometryBasics\n",
    "using WGLMakie\n",
    "using AbstractPlotting\n",
    "using Colors"
   ]
  },
  {
   "cell_type": "code",
   "execution_count": 45,
   "metadata": {},
   "outputs": [
    {
     "ename": "LoadError",
     "evalue": "MethodError: no method matching GeometryBasics.HyperRectangle{2,T} where T(::Int64, ::Int64)\nClosest candidates are:\n  GeometryBasics.HyperRectangle{2,T} where T(::Number, ::Number, !Matched::Number, !Matched::Number) at /home/steve/.julia/packages/GeometryBasics/csguK/src/primitives/rectangles.jl:97\n  GeometryBasics.HyperRectangle{2,T} where T(::Number, ::Number, !Matched::Union{Tuple{T,T}, StaticArrays.StaticArray{Tuple{2},T,1}} where T) at /home/steve/.julia/packages/GeometryBasics/csguK/src/primitives/rectangles.jl:132\n  GeometryBasics.HyperRectangle{2,T} where T(!Matched::Union{Tuple{T,T}, StaticArrays.StaticArray{Tuple{2},T,1}} where T, ::Number, !Matched::Number) at /home/steve/.julia/packages/GeometryBasics/csguK/src/primitives/rectangles.jl:128\n  ...",
     "output_type": "error",
     "traceback": [
      "MethodError: no method matching GeometryBasics.HyperRectangle{2,T} where T(::Int64, ::Int64)\nClosest candidates are:\n  GeometryBasics.HyperRectangle{2,T} where T(::Number, ::Number, !Matched::Number, !Matched::Number) at /home/steve/.julia/packages/GeometryBasics/csguK/src/primitives/rectangles.jl:97\n  GeometryBasics.HyperRectangle{2,T} where T(::Number, ::Number, !Matched::Union{Tuple{T,T}, StaticArrays.StaticArray{Tuple{2},T,1}} where T) at /home/steve/.julia/packages/GeometryBasics/csguK/src/primitives/rectangles.jl:132\n  GeometryBasics.HyperRectangle{2,T} where T(!Matched::Union{Tuple{T,T}, StaticArrays.StaticArray{Tuple{2},T,1}} where T, ::Number, !Matched::Number) at /home/steve/.julia/packages/GeometryBasics/csguK/src/primitives/rectangles.jl:128\n  ...",
      "",
      "Stacktrace:",
      " [1] top-level scope at In[45]:1",
      " [2] include_string(::Function, ::Module, ::String, ::String) at ./loading.jl:1091",
      " [3] execute_code(::String, ::String) at /home/steve/.julia/packages/IJulia/a1SNk/src/execute_request.jl:27",
      " [4] execute_request(::ZMQ.Socket, ::IJulia.Msg) at /home/steve/.julia/packages/IJulia/a1SNk/src/execute_request.jl:86",
      " [5] #invokelatest#1 at ./essentials.jl:710 [inlined]",
      " [6] invokelatest at ./essentials.jl:709 [inlined]",
      " [7] eventloop(::ZMQ.Socket) at /home/steve/.julia/packages/IJulia/a1SNk/src/eventloop.jl:8",
      " [8] (::IJulia.var\"#15#18\")() at ./task.jl:356"
     ]
    }
   ],
   "source": [
    "rects = Rect2D{Int}[Rect2D(0,00100,100),\n",
    "                    Rect2D(40,800),\n",
    "                    Rect2D(40,80),\n",
    "                    Rect2D(160,80)];"
   ]
  },
  {
   "cell_type": "code",
   "execution_count": 41,
   "metadata": {},
   "outputs": [],
   "source": [
    "scene = Scene();"
   ]
  },
  {
   "cell_type": "code",
   "execution_count": 42,
   "metadata": {},
   "outputs": [
    {
     "data": {
      "text/html": [
       "<iframe src=\"http://127.0.0.1:8081/8f9e51b1-44a7-48f4-8497-7820fdd4c10e\" id=\"8f9e51b1-44a7-48f4-8497-7820fdd4c10e\" style=\"position: relative; display: block; width: 100%; height: 100%; padding: 0; overflow: hidden; border: none\" scrolling=\"no\">\n",
       "</iframe>\n",
       "\n",
       "<script>\n",
       "function resize_jsserve_iframe(event) {\n",
       "   if (event.origin !== \"http://127.0.0.1:8081\") {\n",
       "       return;\n",
       "   }\n",
       "   const uuid = event.data[0];\n",
       "   const width = event.data[1];\n",
       "   const height = event.data[2];\n",
       "   const iframe = document.getElementById(uuid);\n",
       "   if (iframe) {\n",
       "       iframe.style.width = width + \"px\";\n",
       "       iframe.style.height = height + \"px\";\n",
       "   }\n",
       "};\n",
       "if (window.addEventListener) {\n",
       "   window.addEventListener(\"message\", resize_jsserve_iframe, false);\n",
       "} else if (window.attachEvent) {\n",
       "   window.attachEvent(\"onmessage\", resize_jsserve_iframe);\n",
       "}\n",
       "\n",
       "</script>\n",
       "\n"
      ]
     },
     "execution_count": 42,
     "metadata": {},
     "output_type": "execute_result"
    }
   ],
   "source": [
    "poly(rects,color=rand(RGB,length(rects)))"
   ]
  },
  {
   "cell_type": "code",
   "execution_count": 43,
   "metadata": {},
   "outputs": [
    {
     "data": {
      "text/plain": [
       "GuillotinePacker{Int64}(100, 100, true, Packing.RectBestAreaFit, Packing.SplitMinimizeArea, GeometryBasics.HyperRectangle{2,Int64}[GeometryBasics.HyperRectangle{2,Int64}([0, 0], [100, 100])], GeometryBasics.HyperRectangle{2,Int64}[])"
      ]
     },
     "execution_count": 43,
     "metadata": {},
     "output_type": "execute_result"
    }
   ],
   "source": [
    "packer = GuillotinePacker(100,100)"
   ]
  },
  {
   "cell_type": "code",
   "execution_count": 44,
   "metadata": {},
   "outputs": [],
   "source": [
    "for rect in rects\n",
    "    push!(packer, rect)\n",
    "end"
   ]
  },
  {
   "cell_type": "code",
   "execution_count": 38,
   "metadata": {},
   "outputs": [
    {
     "data": {
      "text/html": [
       "<iframe src=\"http://127.0.0.1:8081/ae1c5530-113b-4a32-8666-1667978b37e5\" id=\"ae1c5530-113b-4a32-8666-1667978b37e5\" style=\"position: relative; display: block; width: 100%; height: 100%; padding: 0; overflow: hidden; border: none\" scrolling=\"no\">\n",
       "</iframe>\n",
       "\n",
       "<script>\n",
       "function resize_jsserve_iframe(event) {\n",
       "   if (event.origin !== \"http://127.0.0.1:8081\") {\n",
       "       return;\n",
       "   }\n",
       "   const uuid = event.data[0];\n",
       "   const width = event.data[1];\n",
       "   const height = event.data[2];\n",
       "   const iframe = document.getElementById(uuid);\n",
       "   if (iframe) {\n",
       "       iframe.style.width = width + \"px\";\n",
       "       iframe.style.height = height + \"px\";\n",
       "   }\n",
       "};\n",
       "if (window.addEventListener) {\n",
       "   window.addEventListener(\"message\", resize_jsserve_iframe, false);\n",
       "} else if (window.attachEvent) {\n",
       "   window.attachEvent(\"onmessage\", resize_jsserve_iframe);\n",
       "}\n",
       "\n",
       "</script>\n",
       "\n"
      ]
     },
     "execution_count": 38,
     "metadata": {},
     "output_type": "execute_result"
    }
   ],
   "source": [
    "poly(packer.used_rectangles,color=rand(RGB,length(packer.used_rectangles)))"
   ]
  },
  {
   "cell_type": "code",
   "execution_count": null,
   "metadata": {},
   "outputs": [],
   "source": []
  },
  {
   "cell_type": "code",
   "execution_count": null,
   "metadata": {},
   "outputs": [],
   "source": []
  }
 ],
 "metadata": {
  "kernelspec": {
   "display_name": "Julia 1.5.2-pre",
   "language": "julia",
   "name": "julia-1.5"
  },
  "language_info": {
   "file_extension": ".jl",
   "mimetype": "application/julia",
   "name": "julia",
   "version": "1.5.2"
  }
 },
 "nbformat": 4,
 "nbformat_minor": 2
}
